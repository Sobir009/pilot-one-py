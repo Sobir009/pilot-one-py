{
 "cells": [
  {
   "cell_type": "code",
   "execution_count": 163,
   "id": "ee12f7bf",
   "metadata": {},
   "outputs": [],
   "source": [
    "import pandas as pd\n",
    "import numpy as np\n",
    "from sklearn.model_selection import train_test_split\n",
    "from sklearn.linear_model import LogisticRegression\n",
    "from sklearn import metrics\n",
    "import matplotlib.pyplot as plt\n",
    "import seaborn as sns\n",
    "import streamlit as st"
   ]
  },
  {
   "cell_type": "code",
   "execution_count": 164,
   "id": "e5234869",
   "metadata": {},
   "outputs": [],
   "source": [
    "data=pd.read_excel('Scoring.xlsx')"
   ]
  },
  {
   "cell_type": "code",
   "execution_count": 165,
   "id": "19c18e56",
   "metadata": {},
   "outputs": [
    {
     "data": {
      "text/html": [
       "<div>\n",
       "<style scoped>\n",
       "    .dataframe tbody tr th:only-of-type {\n",
       "        vertical-align: middle;\n",
       "    }\n",
       "\n",
       "    .dataframe tbody tr th {\n",
       "        vertical-align: top;\n",
       "    }\n",
       "\n",
       "    .dataframe thead th {\n",
       "        text-align: right;\n",
       "    }\n",
       "</style>\n",
       "<table border=\"1\" class=\"dataframe\">\n",
       "  <thead>\n",
       "    <tr style=\"text-align: right;\">\n",
       "      <th></th>\n",
       "      <th>gender</th>\n",
       "      <th>year1</th>\n",
       "      <th>povtorny_client</th>\n",
       "      <th>summa</th>\n",
       "      <th>sroc</th>\n",
       "      <th>type_zaloga</th>\n",
       "      <th>obrozovania</th>\n",
       "      <th>type_bizines</th>\n",
       "      <th>sel_cridit</th>\n",
       "      <th>prosrochki_za_sicl</th>\n",
       "      <th>yedino_prosrochli</th>\n",
       "      <th>Year_</th>\n",
       "      <th>Unnamed: 12</th>\n",
       "    </tr>\n",
       "  </thead>\n",
       "  <tbody>\n",
       "    <tr>\n",
       "      <th>0</th>\n",
       "      <td>Муж</td>\n",
       "      <td>29.07.1977</td>\n",
       "      <td>Новый клиент</td>\n",
       "      <td>25000.0</td>\n",
       "      <td>24</td>\n",
       "      <td>Смешанное обеспечение</td>\n",
       "      <td>Сред.спец.образ-ние</td>\n",
       "      <td>4. Савдо / Торговля</td>\n",
       "      <td>Строительство жилья</td>\n",
       "      <td>0</td>\n",
       "      <td>0</td>\n",
       "      <td>46</td>\n",
       "      <td>1977</td>\n",
       "    </tr>\n",
       "    <tr>\n",
       "      <th>1</th>\n",
       "      <td>Жен</td>\n",
       "      <td>02.01.1974</td>\n",
       "      <td>Старый клиент</td>\n",
       "      <td>50000.0</td>\n",
       "      <td>36</td>\n",
       "      <td>Смешанное обеспечение</td>\n",
       "      <td>Высшее образование</td>\n",
       "      <td>1. Карзи истеъмоли/Потребительский кредит</td>\n",
       "      <td>Ремонт жилья</td>\n",
       "      <td>0</td>\n",
       "      <td>0</td>\n",
       "      <td>49</td>\n",
       "      <td>1974</td>\n",
       "    </tr>\n",
       "    <tr>\n",
       "      <th>2</th>\n",
       "      <td>Жен</td>\n",
       "      <td>16.10.1975</td>\n",
       "      <td>Старый клиент</td>\n",
       "      <td>20000.0</td>\n",
       "      <td>12</td>\n",
       "      <td>Ювелирные изделия</td>\n",
       "      <td>Высшее образование</td>\n",
       "      <td>4. Савдо / Торговля</td>\n",
       "      <td>Потребительские цели</td>\n",
       "      <td>0</td>\n",
       "      <td>0</td>\n",
       "      <td>48</td>\n",
       "      <td>1975</td>\n",
       "    </tr>\n",
       "    <tr>\n",
       "      <th>3</th>\n",
       "      <td>Жен</td>\n",
       "      <td>16.10.1975</td>\n",
       "      <td>Старый клиент</td>\n",
       "      <td>18000.0</td>\n",
       "      <td>12</td>\n",
       "      <td>Ювелирные изделия</td>\n",
       "      <td>Высшее образование</td>\n",
       "      <td>4. Савдо / Торговля</td>\n",
       "      <td>Потребительские цели</td>\n",
       "      <td>0</td>\n",
       "      <td>0</td>\n",
       "      <td>48</td>\n",
       "      <td>1975</td>\n",
       "    </tr>\n",
       "    <tr>\n",
       "      <th>4</th>\n",
       "      <td>Жен</td>\n",
       "      <td>16.10.1975</td>\n",
       "      <td>Старый клиент</td>\n",
       "      <td>15000.0</td>\n",
       "      <td>12</td>\n",
       "      <td>Ювелирные изделия</td>\n",
       "      <td>Высшее образование</td>\n",
       "      <td>4. Савдо / Торговля</td>\n",
       "      <td>Потребительские цели</td>\n",
       "      <td>0</td>\n",
       "      <td>0</td>\n",
       "      <td>48</td>\n",
       "      <td>1975</td>\n",
       "    </tr>\n",
       "  </tbody>\n",
       "</table>\n",
       "</div>"
      ],
      "text/plain": [
       "  gender       year1 povtorny_client    summa  sroc            type_zaloga  \\\n",
       "0    Муж  29.07.1977    Новый клиент  25000.0    24  Смешанное обеспечение   \n",
       "1    Жен  02.01.1974   Старый клиент  50000.0    36  Смешанное обеспечение   \n",
       "2    Жен  16.10.1975   Старый клиент  20000.0    12      Ювелирные изделия   \n",
       "3    Жен  16.10.1975   Старый клиент  18000.0    12      Ювелирные изделия   \n",
       "4    Жен  16.10.1975   Старый клиент  15000.0    12      Ювелирные изделия   \n",
       "\n",
       "           obrozovania                               type_bizines  \\\n",
       "0  Сред.спец.образ-ние                        4. Савдо / Торговля   \n",
       "1   Высшее образование  1. Карзи истеъмоли/Потребительский кредит   \n",
       "2   Высшее образование                        4. Савдо / Торговля   \n",
       "3   Высшее образование                        4. Савдо / Торговля   \n",
       "4   Высшее образование                        4. Савдо / Торговля   \n",
       "\n",
       "             sel_cridit  prosrochki_za_sicl  yedino_prosrochli  Year_  \\\n",
       "0   Строительство жилья                   0                  0     46   \n",
       "1          Ремонт жилья                   0                  0     49   \n",
       "2  Потребительские цели                   0                  0     48   \n",
       "3  Потребительские цели                   0                  0     48   \n",
       "4  Потребительские цели                   0                  0     48   \n",
       "\n",
       "   Unnamed: 12  \n",
       "0         1977  \n",
       "1         1974  \n",
       "2         1975  \n",
       "3         1975  \n",
       "4         1975  "
      ]
     },
     "execution_count": 165,
     "metadata": {},
     "output_type": "execute_result"
    }
   ],
   "source": [
    "data.head()"
   ]
  },
  {
   "cell_type": "code",
   "execution_count": 166,
   "id": "c83db0ed",
   "metadata": {},
   "outputs": [
    {
     "name": "stdout",
     "output_type": "stream",
     "text": [
      "<class 'pandas.core.frame.DataFrame'>\n",
      "RangeIndex: 13855 entries, 0 to 13854\n",
      "Data columns (total 13 columns):\n",
      " #   Column              Non-Null Count  Dtype  \n",
      "---  ------              --------------  -----  \n",
      " 0   gender              13855 non-null  object \n",
      " 1   year1               13855 non-null  object \n",
      " 2   povtorny_client     13855 non-null  object \n",
      " 3   summa               13855 non-null  float64\n",
      " 4   sroc                13855 non-null  int64  \n",
      " 5   type_zaloga         13855 non-null  object \n",
      " 6   obrozovania         13855 non-null  object \n",
      " 7   type_bizines        13855 non-null  object \n",
      " 8   sel_cridit          13855 non-null  object \n",
      " 9   prosrochki_za_sicl  13855 non-null  int64  \n",
      " 10  yedino_prosrochli   13855 non-null  int64  \n",
      " 11  Year_               13855 non-null  int64  \n",
      " 12  Unnamed: 12         13855 non-null  int64  \n",
      "dtypes: float64(1), int64(5), object(7)\n",
      "memory usage: 1.4+ MB\n"
     ]
    }
   ],
   "source": [
    "data.info()"
   ]
  },
  {
   "cell_type": "code",
   "execution_count": 167,
   "id": "4c5808d5",
   "metadata": {},
   "outputs": [
    {
     "data": {
      "text/plain": [
       "Index(['gender', 'year1', 'povtorny_client', 'summa', 'sroc', 'type_zaloga',\n",
       "       'obrozovania', 'type_bizines', 'sel_cridit', 'prosrochki_za_sicl',\n",
       "       'yedino_prosrochli', 'Year_', 'Unnamed: 12'],\n",
       "      dtype='object')"
      ]
     },
     "execution_count": 167,
     "metadata": {},
     "output_type": "execute_result"
    }
   ],
   "source": [
    "data.columns"
   ]
  },
  {
   "cell_type": "code",
   "execution_count": 168,
   "id": "f75e8327",
   "metadata": {},
   "outputs": [],
   "source": [
    "data['summa'] = data['summa'].astype(np.int64)"
   ]
  },
  {
   "cell_type": "code",
   "execution_count": 169,
   "id": "623f762e",
   "metadata": {},
   "outputs": [],
   "source": [
    "data.loc[data['summa'] < 5000, 'summa_code']=0\n",
    "data.loc[data['summa'] >= 5000, 'summa_code']=1"
   ]
  },
  {
   "cell_type": "code",
   "execution_count": 170,
   "id": "bf565511",
   "metadata": {},
   "outputs": [
    {
     "data": {
      "text/plain": [
       "Муж    8239\n",
       "Жен    5616\n",
       "Name: gender, dtype: int64"
      ]
     },
     "execution_count": 170,
     "metadata": {},
     "output_type": "execute_result"
    }
   ],
   "source": [
    "data.gender.value_counts()"
   ]
  },
  {
   "cell_type": "code",
   "execution_count": 171,
   "id": "c2842248",
   "metadata": {},
   "outputs": [],
   "source": [
    "data.loc[data['gender']=='Муж', 'gender_code']=0\n",
    "data.loc[data['gender']=='Жен', 'gender_code']=1"
   ]
  },
  {
   "cell_type": "code",
   "execution_count": 172,
   "id": "86fa465e",
   "metadata": {},
   "outputs": [
    {
     "data": {
      "text/plain": [
       "Старый клиент    10495\n",
       "Новый клиент      3360\n",
       "Name: povtorny_client, dtype: int64"
      ]
     },
     "execution_count": 172,
     "metadata": {},
     "output_type": "execute_result"
    }
   ],
   "source": [
    "data.povtorny_client.value_counts()"
   ]
  },
  {
   "cell_type": "code",
   "execution_count": 173,
   "id": "e750d3b1",
   "metadata": {},
   "outputs": [],
   "source": [
    "data.loc[data['povtorny_client']=='Старый клиент', 'povtorny_client_code']=0\n",
    "data.loc[data['povtorny_client']=='Новый клиент', 'povtorny_client_code']=1"
   ]
  },
  {
   "cell_type": "code",
   "execution_count": 174,
   "id": "8c4f07e9",
   "metadata": {},
   "outputs": [
    {
     "data": {
      "text/plain": [
       "Поручительство           8675\n",
       "Не обеспеченный          4130\n",
       "Смешанное обеспечение     634\n",
       "Движимое имущество        205\n",
       "Ювелирные изделия         156\n",
       "Депозит                    37\n",
       "Недвижимость               18\n",
       "Name: type_zaloga, dtype: int64"
      ]
     },
     "execution_count": 174,
     "metadata": {},
     "output_type": "execute_result"
    }
   ],
   "source": [
    "data.type_zaloga.value_counts()"
   ]
  },
  {
   "cell_type": "code",
   "execution_count": 175,
   "id": "32a3f673",
   "metadata": {},
   "outputs": [],
   "source": [
    "data.loc[data['type_zaloga']=='Поручительство', 'type_zaloga_code']=0\n",
    "data.loc[data['type_zaloga']=='Не обеспеченный', 'type_zaloga_code']=1\n",
    "data.loc[data['type_zaloga']=='Смешанное обеспечение', 'type_zaloga_code']=2\n",
    "data.loc[data['type_zaloga']=='Движимое имущество', 'type_zaloga_code']=3\n",
    "data.loc[data['type_zaloga']=='Ювелирные изделия', 'type_zaloga_code']=4\n",
    "data.loc[data['type_zaloga']=='Депозит', 'type_zaloga_code']=5\n",
    "data.loc[data['type_zaloga']=='Недвижимость', 'type_zaloga_code']=6"
   ]
  },
  {
   "cell_type": "code",
   "execution_count": 176,
   "id": "4e8f89db",
   "metadata": {},
   "outputs": [
    {
     "data": {
      "text/plain": [
       "Среднее образование    7420\n",
       "Высшее образование     5185\n",
       "Сред.спец.образ-ние    1120\n",
       "Непол Сред.образ        119\n",
       "Аспирантура               6\n",
       "Начал образование         5\n",
       "Name: obrozovania, dtype: int64"
      ]
     },
     "execution_count": 176,
     "metadata": {},
     "output_type": "execute_result"
    }
   ],
   "source": [
    "data.obrozovania.value_counts()"
   ]
  },
  {
   "cell_type": "code",
   "execution_count": 177,
   "id": "76b6352d",
   "metadata": {},
   "outputs": [],
   "source": [
    "data.loc[data['obrozovania']=='Среднее образование', 'obrozovania_code']=0\n",
    "data.loc[data['obrozovania']=='Высшее образование', 'obrozovania_code']=1\n",
    "data.loc[data['obrozovania']=='Сред.спец.образ-ние', 'obrozovania_code']=2\n",
    "data.loc[data['obrozovania']=='Непол Сред.образ', 'obrozovania_code']=3\n",
    "data.loc[data['obrozovania']=='Аспирантура', 'obrozovania_code']=4\n",
    "data.loc[data['obrozovania']=='Начал образование', 'obrozovania_code']=5"
   ]
  },
  {
   "cell_type": "code",
   "execution_count": 178,
   "id": "34ca8e7a",
   "metadata": {},
   "outputs": [
    {
     "data": {
      "text/plain": [
       "1. Карзи истеъмоли/Потребительский кредит    8313\n",
       "3. Хизматрасони/Услуги                       4064\n",
       "4. Савдо / Торговля                          1343\n",
       "2. Истехсолот/Производство                    135\n",
       "Name: type_bizines, dtype: int64"
      ]
     },
     "execution_count": 178,
     "metadata": {},
     "output_type": "execute_result"
    }
   ],
   "source": [
    "data.type_bizines.value_counts()"
   ]
  },
  {
   "cell_type": "code",
   "execution_count": 179,
   "id": "d420905f",
   "metadata": {},
   "outputs": [],
   "source": [
    "data.loc[data['type_bizines']=='Карзи истеъмоли/Потребительский кредит', 'type_bizines_code']=0\n",
    "data.loc[data['type_bizines']=='Хизматрасони/Услуги', 'type_bizines_code']=1\n",
    "data.loc[data['type_bizines']=='Савдо / Торговля', 'type_bizines_code']=2\n",
    "data.loc[data['type_bizines']=='Истехсолот/Производство', 'type_bizines_code']=3"
   ]
  },
  {
   "cell_type": "code",
   "execution_count": 180,
   "id": "34980d6c",
   "metadata": {},
   "outputs": [
    {
     "data": {
      "text/plain": [
       "Потребительские цели                 12967\n",
       "Оборотный капитал                      679\n",
       "Основные средства                      193\n",
       "Покупка жилья                            6\n",
       "Баланд бардоштани сам. эн. манзил        6\n",
       "Строительство жилья                      3\n",
       "Ремонт жилья                             1\n",
       "Name: sel_cridit, dtype: int64"
      ]
     },
     "execution_count": 180,
     "metadata": {},
     "output_type": "execute_result"
    }
   ],
   "source": [
    "data.sel_cridit.value_counts()"
   ]
  },
  {
   "cell_type": "code",
   "execution_count": 181,
   "id": "b36d2bea",
   "metadata": {},
   "outputs": [],
   "source": [
    "data.loc[data['sel_cridit']=='Потребительские цели', 'sel_cridit_code']=0\n",
    "data.loc[data['sel_cridit']=='Оборотный капитал', 'sel_cridit_code']=1\n",
    "data.loc[data['sel_cridit']=='Основные средства', 'sel_cridit_code']=2\n",
    "data.loc[data['sel_cridit']=='Покупка жилья', 'sel_cridit_code']=3\n",
    "data.loc[data['sel_cridit']=='Баланд бардоштани сам. эн. манзил', 'sel_cridit_code']=4\n",
    "data.loc[data['sel_cridit']=='Строительство жилья', 'sel_cridit_code']=5\n",
    "data.loc[data['sel_cridit']=='Ремонт жилья', 'sel_cridit_code']=6"
   ]
  },
  {
   "cell_type": "code",
   "execution_count": 182,
   "id": "483e1516",
   "metadata": {},
   "outputs": [
    {
     "data": {
      "text/plain": [
       "Index(['gender', 'year1', 'povtorny_client', 'summa', 'sroc', 'type_zaloga',\n",
       "       'obrozovania', 'type_bizines', 'sel_cridit', 'prosrochki_za_sicl',\n",
       "       'yedino_prosrochli', 'Year_', 'Unnamed: 12', 'summa_code',\n",
       "       'gender_code', 'povtorny_client_code', 'type_zaloga_code',\n",
       "       'obrozovania_code', 'type_bizines_code', 'sel_cridit_code'],\n",
       "      dtype='object')"
      ]
     },
     "execution_count": 182,
     "metadata": {},
     "output_type": "execute_result"
    }
   ],
   "source": [
    "data.columns"
   ]
  },
  {
   "cell_type": "code",
   "execution_count": 183,
   "id": "411532aa",
   "metadata": {},
   "outputs": [],
   "source": [
    "data = data[['summa', 'sroc', 'prosrochki_za_sicl', 'yedino_prosrochli', 'Year_', 'gender_code',\n",
    "       'povtorny_client_code', 'type_zaloga_code', 'obrozovania_code',\n",
    "       'sel_cridit_code', 'summa_code']]"
   ]
  },
  {
   "cell_type": "code",
   "execution_count": 184,
   "id": "158093da",
   "metadata": {},
   "outputs": [
    {
     "name": "stdout",
     "output_type": "stream",
     "text": [
      "<class 'pandas.core.frame.DataFrame'>\n",
      "RangeIndex: 13855 entries, 0 to 13854\n",
      "Data columns (total 11 columns):\n",
      " #   Column                Non-Null Count  Dtype  \n",
      "---  ------                --------------  -----  \n",
      " 0   summa                 13855 non-null  int64  \n",
      " 1   sroc                  13855 non-null  int64  \n",
      " 2   prosrochki_za_sicl    13855 non-null  int64  \n",
      " 3   yedino_prosrochli     13855 non-null  int64  \n",
      " 4   Year_                 13855 non-null  int64  \n",
      " 5   gender_code           13855 non-null  float64\n",
      " 6   povtorny_client_code  13855 non-null  float64\n",
      " 7   type_zaloga_code      13855 non-null  float64\n",
      " 8   obrozovania_code      13855 non-null  float64\n",
      " 9   sel_cridit_code       13855 non-null  float64\n",
      " 10  summa_code            13855 non-null  float64\n",
      "dtypes: float64(6), int64(5)\n",
      "memory usage: 1.2 MB\n"
     ]
    }
   ],
   "source": [
    "data.info()"
   ]
  },
  {
   "cell_type": "code",
   "execution_count": 185,
   "id": "1e493047",
   "metadata": {},
   "outputs": [
    {
     "data": {
      "text/plain": [
       "<Axes: >"
      ]
     },
     "execution_count": 185,
     "metadata": {},
     "output_type": "execute_result"
    },
    {
     "data": {
      "image/png": "[encoded data removed]",
      "text/plain": [
       "<Figure size 640x480 with 2 Axes>"
      ]
     },
     "metadata": {},
     "output_type": "display_data"
    }
   ],
   "source": [
    "sns.heatmap(data.corr(), annot=True)"
   ]
  },
  {
   "cell_type": "code",
   "execution_count": 304,
   "id": "90007481",
   "metadata": {},
   "outputs": [],
   "source": [
    "X=data.drop(['prosrochki_za_sicl', 'yedino_prosrochli'],axis=1)\n",
    "y=data.summa_code"
   ]
  },
  {
   "cell_type": "code",
   "execution_count": 305,
   "id": "e5b0c0b0",
   "metadata": {},
   "outputs": [],
   "source": [
    "X_train, X_test, y_train, y_test = train_test_split(X,y, test_size=0.4,random_state=40)"
   ]
  },
  {
   "cell_type": "code",
   "execution_count": 306,
   "id": "6b876799",
   "metadata": {},
   "outputs": [
    {
     "data": {
      "text/html": [
       "<div>\n",
       "<style scoped>\n",
       "    .dataframe tbody tr th:only-of-type {\n",
       "        vertical-align: middle;\n",
       "    }\n",
       "\n",
       "    .dataframe tbody tr th {\n",
       "        vertical-align: top;\n",
       "    }\n",
       "\n",
       "    .dataframe thead th {\n",
       "        text-align: right;\n",
       "    }\n",
       "</style>\n",
       "<table border=\"1\" class=\"dataframe\">\n",
       "  <thead>\n",
       "    <tr style=\"text-align: right;\">\n",
       "      <th></th>\n",
       "      <th>summa</th>\n",
       "      <th>sroc</th>\n",
       "      <th>Year_</th>\n",
       "      <th>gender_code</th>\n",
       "      <th>povtorny_client_code</th>\n",
       "      <th>type_zaloga_code</th>\n",
       "      <th>obrozovania_code</th>\n",
       "      <th>sel_cridit_code</th>\n",
       "      <th>summa_code</th>\n",
       "    </tr>\n",
       "  </thead>\n",
       "  <tbody>\n",
       "    <tr>\n",
       "      <th>9022</th>\n",
       "      <td>15000</td>\n",
       "      <td>12</td>\n",
       "      <td>31</td>\n",
       "      <td>0.0</td>\n",
       "      <td>0.0</td>\n",
       "      <td>0.0</td>\n",
       "      <td>0.0</td>\n",
       "      <td>0.0</td>\n",
       "      <td>1.0</td>\n",
       "    </tr>\n",
       "    <tr>\n",
       "      <th>7752</th>\n",
       "      <td>6000</td>\n",
       "      <td>18</td>\n",
       "      <td>65</td>\n",
       "      <td>0.0</td>\n",
       "      <td>0.0</td>\n",
       "      <td>0.0</td>\n",
       "      <td>0.0</td>\n",
       "      <td>0.0</td>\n",
       "      <td>1.0</td>\n",
       "    </tr>\n",
       "    <tr>\n",
       "      <th>6131</th>\n",
       "      <td>3000</td>\n",
       "      <td>12</td>\n",
       "      <td>40</td>\n",
       "      <td>0.0</td>\n",
       "      <td>0.0</td>\n",
       "      <td>1.0</td>\n",
       "      <td>0.0</td>\n",
       "      <td>0.0</td>\n",
       "      <td>0.0</td>\n",
       "    </tr>\n",
       "    <tr>\n",
       "      <th>9588</th>\n",
       "      <td>3500</td>\n",
       "      <td>12</td>\n",
       "      <td>53</td>\n",
       "      <td>0.0</td>\n",
       "      <td>1.0</td>\n",
       "      <td>1.0</td>\n",
       "      <td>1.0</td>\n",
       "      <td>0.0</td>\n",
       "      <td>0.0</td>\n",
       "    </tr>\n",
       "    <tr>\n",
       "      <th>3868</th>\n",
       "      <td>5000</td>\n",
       "      <td>12</td>\n",
       "      <td>35</td>\n",
       "      <td>0.0</td>\n",
       "      <td>0.0</td>\n",
       "      <td>1.0</td>\n",
       "      <td>2.0</td>\n",
       "      <td>0.0</td>\n",
       "      <td>1.0</td>\n",
       "    </tr>\n",
       "    <tr>\n",
       "      <th>...</th>\n",
       "      <td>...</td>\n",
       "      <td>...</td>\n",
       "      <td>...</td>\n",
       "      <td>...</td>\n",
       "      <td>...</td>\n",
       "      <td>...</td>\n",
       "      <td>...</td>\n",
       "      <td>...</td>\n",
       "      <td>...</td>\n",
       "    </tr>\n",
       "    <tr>\n",
       "      <th>11532</th>\n",
       "      <td>5000</td>\n",
       "      <td>12</td>\n",
       "      <td>31</td>\n",
       "      <td>0.0</td>\n",
       "      <td>1.0</td>\n",
       "      <td>1.0</td>\n",
       "      <td>1.0</td>\n",
       "      <td>0.0</td>\n",
       "      <td>1.0</td>\n",
       "    </tr>\n",
       "    <tr>\n",
       "      <th>5426</th>\n",
       "      <td>7000</td>\n",
       "      <td>18</td>\n",
       "      <td>49</td>\n",
       "      <td>1.0</td>\n",
       "      <td>0.0</td>\n",
       "      <td>1.0</td>\n",
       "      <td>0.0</td>\n",
       "      <td>0.0</td>\n",
       "      <td>1.0</td>\n",
       "    </tr>\n",
       "    <tr>\n",
       "      <th>7608</th>\n",
       "      <td>3000</td>\n",
       "      <td>12</td>\n",
       "      <td>42</td>\n",
       "      <td>1.0</td>\n",
       "      <td>0.0</td>\n",
       "      <td>1.0</td>\n",
       "      <td>0.0</td>\n",
       "      <td>0.0</td>\n",
       "      <td>0.0</td>\n",
       "    </tr>\n",
       "    <tr>\n",
       "      <th>11256</th>\n",
       "      <td>5000</td>\n",
       "      <td>12</td>\n",
       "      <td>29</td>\n",
       "      <td>0.0</td>\n",
       "      <td>1.0</td>\n",
       "      <td>0.0</td>\n",
       "      <td>1.0</td>\n",
       "      <td>0.0</td>\n",
       "      <td>1.0</td>\n",
       "    </tr>\n",
       "    <tr>\n",
       "      <th>11590</th>\n",
       "      <td>2000</td>\n",
       "      <td>12</td>\n",
       "      <td>48</td>\n",
       "      <td>0.0</td>\n",
       "      <td>0.0</td>\n",
       "      <td>1.0</td>\n",
       "      <td>0.0</td>\n",
       "      <td>0.0</td>\n",
       "      <td>0.0</td>\n",
       "    </tr>\n",
       "  </tbody>\n",
       "</table>\n",
       "<p>8313 rows × 9 columns</p>\n",
       "</div>"
      ],
      "text/plain": [
       "       summa  sroc  Year_  gender_code  povtorny_client_code  \\\n",
       "9022   15000    12     31          0.0                   0.0   \n",
       "7752    6000    18     65          0.0                   0.0   \n",
       "6131    3000    12     40          0.0                   0.0   \n",
       "9588    3500    12     53          0.0                   1.0   \n",
       "3868    5000    12     35          0.0                   0.0   \n",
       "...      ...   ...    ...          ...                   ...   \n",
       "11532   5000    12     31          0.0                   1.0   \n",
       "5426    7000    18     49          1.0                   0.0   \n",
       "7608    3000    12     42          1.0                   0.0   \n",
       "11256   5000    12     29          0.0                   1.0   \n",
       "11590   2000    12     48          0.0                   0.0   \n",
       "\n",
       "       type_zaloga_code  obrozovania_code  sel_cridit_code  summa_code  \n",
       "9022                0.0               0.0              0.0         1.0  \n",
       "7752                0.0               0.0              0.0         1.0  \n",
       "6131                1.0               0.0              0.0         0.0  \n",
       "9588                1.0               1.0              0.0         0.0  \n",
       "3868                1.0               2.0              0.0         1.0  \n",
       "...                 ...               ...              ...         ...  \n",
       "11532               1.0               1.0              0.0         1.0  \n",
       "5426                1.0               0.0              0.0         1.0  \n",
       "7608                1.0               0.0              0.0         0.0  \n",
       "11256               0.0               1.0              0.0         1.0  \n",
       "11590               1.0               0.0              0.0         0.0  \n",
       "\n",
       "[8313 rows x 9 columns]"
      ]
     },
     "execution_count": 306,
     "metadata": {},
     "output_type": "execute_result"
    }
   ],
   "source": [
    "X_train"
   ]
  },
  {
   "cell_type": "code",
   "execution_count": 307,
   "id": "4fa33d96",
   "metadata": {},
   "outputs": [],
   "source": [
    "logreg=LogisticRegression()"
   ]
  },
  {
   "cell_type": "code",
   "execution_count": 308,
   "id": "eec2aaca",
   "metadata": {},
   "outputs": [
    {
     "name": "stderr",
     "output_type": "stream",
     "text": [
      "C:\\ProgramData\\anaconda3\\Lib\\site-packages\\sklearn\\linear_model\\_logistic.py:458: ConvergenceWarning: lbfgs failed to converge (status=1):\n",
      "STOP: TOTAL NO. of ITERATIONS REACHED LIMIT.\n",
      "\n",
      "Increase the number of iterations (max_iter) or scale the data as shown in:\n",
      "    https://scikit-learn.org/stable/modules/preprocessing.html\n",
      "Please also refer to the documentation for alternative solver options:\n",
      "    https://scikit-learn.org/stable/modules/linear_model.html#logistic-regression\n",
      "  n_iter_i = _check_optimize_result(\n"
     ]
    },
    {
     "data": {
      "text/html": [
       "<style>#sk-container-id-11 {color: black;background-color: white;}#sk-container-id-11 pre{padding: 0;}#sk-container-id-11 div.sk-toggleable {background-color: white;}#sk-container-id-11 label.sk-toggleable__label {cursor: pointer;display: block;width: 100%;margin-bottom: 0;padding: 0.3em;box-sizing: border-box;text-align: center;}#sk-container-id-11 label.sk-toggleable__label-arrow:before {content: \"▸\";float: left;margin-right: 0.25em;color: #696969;}#sk-container-id-11 label.sk-toggleable__label-arrow:hover:before {color: black;}#sk-container-id-11 div.sk-estimator:hover label.sk-toggleable__label-arrow:before {color: black;}#sk-container-id-11 div.sk-toggleable__content {max-height: 0;max-width: 0;overflow: hidden;text-align: left;background-color: #f0f8ff;}#sk-container-id-11 div.sk-toggleable__content pre {margin: 0.2em;color: black;border-radius: 0.25em;background-color: #f0f8ff;}#sk-container-id-11 input.sk-toggleable__control:checked~div.sk-toggleable__content {max-height: 200px;max-width: 100%;overflow: auto;}#sk-container-id-11 input.sk-toggleable__control:checked~label.sk-toggleable__label-arrow:before {content: \"▾\";}#sk-container-id-11 div.sk-estimator input.sk-toggleable__control:checked~label.sk-toggleable__label {background-color: #d4ebff;}#sk-container-id-11 div.sk-label input.sk-toggleable__control:checked~label.sk-toggleable__label {background-color: #d4ebff;}#sk-container-id-11 input.sk-hidden--visually {border: 0;clip: rect(1px 1px 1px 1px);clip: rect(1px, 1px, 1px, 1px);height: 1px;margin: -1px;overflow: hidden;padding: 0;position: absolute;width: 1px;}#sk-container-id-11 div.sk-estimator {font-family: monospace;background-color: #f0f8ff;border: 1px dotted black;border-radius: 0.25em;box-sizing: border-box;margin-bottom: 0.5em;}#sk-container-id-11 div.sk-estimator:hover {background-color: #d4ebff;}#sk-container-id-11 div.sk-parallel-item::after {content: \"\";width: 100%;border-bottom: 1px solid gray;flex-grow: 1;}#sk-container-id-11 div.sk-label:hover label.sk-toggleable__label {background-color: #d4ebff;}#sk-container-id-11 div.sk-serial::before {content: \"\";position: absolute;border-left: 1px solid gray;box-sizing: border-box;top: 0;bottom: 0;left: 50%;z-index: 0;}#sk-container-id-11 div.sk-serial {display: flex;flex-direction: column;align-items: center;background-color: white;padding-right: 0.2em;padding-left: 0.2em;position: relative;}#sk-container-id-11 div.sk-item {position: relative;z-index: 1;}#sk-container-id-11 div.sk-parallel {display: flex;align-items: stretch;justify-content: center;background-color: white;position: relative;}#sk-container-id-11 div.sk-item::before, #sk-container-id-11 div.sk-parallel-item::before {content: \"\";position: absolute;border-left: 1px solid gray;box-sizing: border-box;top: 0;bottom: 0;left: 50%;z-index: -1;}#sk-container-id-11 div.sk-parallel-item {display: flex;flex-direction: column;z-index: 1;position: relative;background-color: white;}#sk-container-id-11 div.sk-parallel-item:first-child::after {align-self: flex-end;width: 50%;}#sk-container-id-11 div.sk-parallel-item:last-child::after {align-self: flex-start;width: 50%;}#sk-container-id-11 div.sk-parallel-item:only-child::after {width: 0;}#sk-container-id-11 div.sk-dashed-wrapped {border: 1px dashed gray;margin: 0 0.4em 0.5em 0.4em;box-sizing: border-box;padding-bottom: 0.4em;background-color: white;}#sk-container-id-11 div.sk-label label {font-family: monospace;font-weight: bold;display: inline-block;line-height: 1.2em;}#sk-container-id-11 div.sk-label-container {text-align: center;}#sk-container-id-11 div.sk-container {/* jupyter's `normalize.less` sets `[hidden] { display: none; }` but bootstrap.min.css set `[hidden] { display: none !important; }` so we also need the `!important` here to be able to override the default hidden behavior on the sphinx rendered scikit-learn.org. See: https://github.com/scikit-learn/scikit-learn/issues/21755 */display: inline-block !important;position: relative;}#sk-container-id-11 div.sk-text-repr-fallback {display: none;}</style><div id=\"sk-container-id-11\" class=\"sk-top-container\"><div class=\"sk-text-repr-fallback\"><pre>LogisticRegression()</pre><b>In a Jupyter environment, please rerun this cell to show the HTML representation or trust the notebook. <br />On GitHub, the HTML representation is unable to render, please try loading this page with nbviewer.org.</b></div><div class=\"sk-container\" hidden><div class=\"sk-item\"><div class=\"sk-estimator sk-toggleable\"><input class=\"sk-toggleable__control sk-hidden--visually\" id=\"sk-estimator-id-11\" type=\"checkbox\" checked><label for=\"sk-estimator-id-11\" class=\"sk-toggleable__label sk-toggleable__label-arrow\">LogisticRegression</label><div class=\"sk-toggleable__content\"><pre>LogisticRegression()</pre></div></div></div></div></div>"
      ],
      "text/plain": [
       "LogisticRegression()"
      ]
     },
     "execution_count": 308,
     "metadata": {},
     "output_type": "execute_result"
    }
   ],
   "source": [
    "logreg.fit(X_train,y_train)"
   ]
  },
  {
   "cell_type": "code",
   "execution_count": 309,
   "id": "00150b9f",
   "metadata": {},
   "outputs": [],
   "source": [
    "y_pred = logreg.predict(X_test)"
   ]
  },
  {
   "cell_type": "code",
   "execution_count": 310,
   "id": "0a55efc4",
   "metadata": {},
   "outputs": [
    {
     "data": {
      "text/plain": [
       "array([1., 1., 0., ..., 0., 1., 0.])"
      ]
     },
     "execution_count": 310,
     "metadata": {},
     "output_type": "execute_result"
    }
   ],
   "source": [
    "y_pred"
   ]
  },
  {
   "cell_type": "code",
   "execution_count": 311,
   "id": "4024a0bd",
   "metadata": {},
   "outputs": [],
   "source": [
    "LogRegAccur = metrics.accuracy_score(y_test,y_pred)"
   ]
  },
  {
   "cell_type": "code",
   "execution_count": 312,
   "id": "bebf41a3",
   "metadata": {},
   "outputs": [
    {
     "data": {
      "text/plain": [
       "array([[1289,   31],\n",
       "       [  34, 4188]], dtype=int64)"
      ]
     },
     "execution_count": 312,
     "metadata": {},
     "output_type": "execute_result"
    }
   ],
   "source": [
    "cnf_matrix=metrics.confusion_matrix(y_test,y_pred)\n",
    "cnf_matrix"
   ]
  },
  {
   "cell_type": "code",
   "execution_count": 313,
   "id": "383e9794",
   "metadata": {},
   "outputs": [
    {
     "data": {
      "text/html": [
       "<div>\n",
       "<style scoped>\n",
       "    .dataframe tbody tr th:only-of-type {\n",
       "        vertical-align: middle;\n",
       "    }\n",
       "\n",
       "    .dataframe tbody tr th {\n",
       "        vertical-align: top;\n",
       "    }\n",
       "\n",
       "    .dataframe thead th {\n",
       "        text-align: right;\n",
       "    }\n",
       "</style>\n",
       "<table border=\"1\" class=\"dataframe\">\n",
       "  <thead>\n",
       "    <tr style=\"text-align: right;\">\n",
       "      <th>col_0</th>\n",
       "      <th>0.0</th>\n",
       "      <th>1.0</th>\n",
       "    </tr>\n",
       "    <tr>\n",
       "      <th>summa_code</th>\n",
       "      <th></th>\n",
       "      <th></th>\n",
       "    </tr>\n",
       "  </thead>\n",
       "  <tbody>\n",
       "    <tr>\n",
       "      <th>0.0</th>\n",
       "      <td>1289</td>\n",
       "      <td>31</td>\n",
       "    </tr>\n",
       "    <tr>\n",
       "      <th>1.0</th>\n",
       "      <td>34</td>\n",
       "      <td>4188</td>\n",
       "    </tr>\n",
       "  </tbody>\n",
       "</table>\n",
       "</div>"
      ],
      "text/plain": [
       "col_0        0.0   1.0\n",
       "summa_code            \n",
       "0.0         1289    31\n",
       "1.0           34  4188"
      ]
     },
     "execution_count": 313,
     "metadata": {},
     "output_type": "execute_result"
    }
   ],
   "source": [
    "pd.crosstab(y_test,y_pred)"
   ]
  },
  {
   "cell_type": "code",
   "execution_count": 314,
   "id": "43d84fe7",
   "metadata": {},
   "outputs": [
    {
     "data": {
      "image/png": "[encoded data removed]",
      "text/plain": [
       "<Figure size 640x480 with 1 Axes>"
      ]
     },
     "metadata": {},
     "output_type": "display_data"
    }
   ],
   "source": [
    "sns.heatmap(cnf_matrix, annot=True, fmt='d', cmap='Blues', cbar=False)\n",
    "\n",
    "plt.xlabel('Predicted')\n",
    "plt.ylabel('True')\n",
    "plt.title('Confusion Matrix')\n",
    "plt.show()"
   ]
  },
  {
   "cell_type": "code",
   "execution_count": 315,
   "id": "c5d0c1e0",
   "metadata": {},
   "outputs": [
    {
     "data": {
      "text/plain": [
       "0.9842310480455909"
      ]
     },
     "execution_count": 315,
     "metadata": {},
     "output_type": "execute_result"
    }
   ],
   "source": [
    "metrics.roc_auc_score(y_test, y_pred)"
   ]
  },
  {
   "cell_type": "code",
   "execution_count": 316,
   "id": "3de2db57",
   "metadata": {},
   "outputs": [],
   "source": [
    "from sklearn.model_selection import train_test_split\n",
    "from sklearn.ensemble import GradientBoostingRegressor\n",
    "from sklearn.metrics import mean_squared_error, r2_score "
   ]
  },
  {
   "cell_type": "code",
   "execution_count": 317,
   "id": "ae43c99e",
   "metadata": {},
   "outputs": [
    {
     "name": "stdout",
     "output_type": "stream",
     "text": [
      "Mean Squared Error: 1.2825402682313048e-10\n",
      "R-Squared: 0.9999999992931751\n"
     ]
    }
   ],
   "source": [
    "# Gradient Boosting Regression Model   \n",
    "gbr = GradientBoostingRegressor()     # Creating an object of Gradient Boosting Regressor class \n",
    "gbr.fit(X_train, y_train) \n",
    "#calculating the metrics for the model  \n",
    "y_pred = gbr.predict(X_test) \n",
    "mse = mean_squared_error(y_test, y_pred) \n",
    "r2 = r2_score(y_test, y_pred)  \n",
    "print(\"Mean Squared Error:\", mse)  \n",
    "print(\"R-Squared:\", r2)"
   ]
  },
  {
   "cell_type": "code",
   "execution_count": 318,
   "id": "886f5def",
   "metadata": {},
   "outputs": [
    {
     "data": {
      "image/png": "[encoded data removed]",
      "text/plain": [
       "<Figure size 640x480 with 1 Axes>"
      ]
     },
     "metadata": {},
     "output_type": "display_data"
    }
   ],
   "source": [
    "#plot ROC curve\n",
    "y_pred_proba = logreg.predict_proba(X_test)[::,1]\n",
    "fpr, tpr, _ = metrics.roc_curve(y_test,  y_pred_proba)\n",
    "auc = metrics.roc_auc_score(y_test, y_pred_proba)\n",
    "plt.plot(fpr,tpr,label=\"AUC=\"+str(auc))\n",
    "plt.legend(loc=4)\n",
    "plt.show()"
   ]
  },
  {
   "cell_type": "code",
   "execution_count": 319,
   "id": "a3fb0145",
   "metadata": {},
   "outputs": [
    {
     "data": {
      "text/html": [
       "<div>\n",
       "<style scoped>\n",
       "    .dataframe tbody tr th:only-of-type {\n",
       "        vertical-align: middle;\n",
       "    }\n",
       "\n",
       "    .dataframe tbody tr th {\n",
       "        vertical-align: top;\n",
       "    }\n",
       "\n",
       "    .dataframe thead th {\n",
       "        text-align: right;\n",
       "    }\n",
       "</style>\n",
       "<table border=\"1\" class=\"dataframe\">\n",
       "  <thead>\n",
       "    <tr style=\"text-align: right;\">\n",
       "      <th></th>\n",
       "      <th>summa</th>\n",
       "      <th>sroc</th>\n",
       "      <th>Year_</th>\n",
       "      <th>gender_code</th>\n",
       "      <th>povtorny_client_code</th>\n",
       "      <th>type_zaloga_code</th>\n",
       "      <th>obrozovania_code</th>\n",
       "      <th>sel_cridit_code</th>\n",
       "      <th>summa_code</th>\n",
       "    </tr>\n",
       "  </thead>\n",
       "  <tbody>\n",
       "    <tr>\n",
       "      <th>10916</th>\n",
       "      <td>6000</td>\n",
       "      <td>18</td>\n",
       "      <td>37</td>\n",
       "      <td>1.0</td>\n",
       "      <td>0.0</td>\n",
       "      <td>0.0</td>\n",
       "      <td>0.0</td>\n",
       "      <td>0.0</td>\n",
       "      <td>1.0</td>\n",
       "    </tr>\n",
       "    <tr>\n",
       "      <th>6644</th>\n",
       "      <td>5000</td>\n",
       "      <td>12</td>\n",
       "      <td>51</td>\n",
       "      <td>1.0</td>\n",
       "      <td>0.0</td>\n",
       "      <td>0.0</td>\n",
       "      <td>1.0</td>\n",
       "      <td>0.0</td>\n",
       "      <td>1.0</td>\n",
       "    </tr>\n",
       "    <tr>\n",
       "      <th>3972</th>\n",
       "      <td>5000</td>\n",
       "      <td>18</td>\n",
       "      <td>49</td>\n",
       "      <td>0.0</td>\n",
       "      <td>0.0</td>\n",
       "      <td>1.0</td>\n",
       "      <td>2.0</td>\n",
       "      <td>0.0</td>\n",
       "      <td>1.0</td>\n",
       "    </tr>\n",
       "    <tr>\n",
       "      <th>4795</th>\n",
       "      <td>5000</td>\n",
       "      <td>18</td>\n",
       "      <td>42</td>\n",
       "      <td>1.0</td>\n",
       "      <td>1.0</td>\n",
       "      <td>0.0</td>\n",
       "      <td>0.0</td>\n",
       "      <td>0.0</td>\n",
       "      <td>1.0</td>\n",
       "    </tr>\n",
       "    <tr>\n",
       "      <th>1710</th>\n",
       "      <td>1000</td>\n",
       "      <td>6</td>\n",
       "      <td>41</td>\n",
       "      <td>1.0</td>\n",
       "      <td>0.0</td>\n",
       "      <td>0.0</td>\n",
       "      <td>0.0</td>\n",
       "      <td>0.0</td>\n",
       "      <td>0.0</td>\n",
       "    </tr>\n",
       "  </tbody>\n",
       "</table>\n",
       "</div>"
      ],
      "text/plain": [
       "       summa  sroc  Year_  gender_code  povtorny_client_code  \\\n",
       "10916   6000    18     37          1.0                   0.0   \n",
       "6644    5000    12     51          1.0                   0.0   \n",
       "3972    5000    18     49          0.0                   0.0   \n",
       "4795    5000    18     42          1.0                   1.0   \n",
       "1710    1000     6     41          1.0                   0.0   \n",
       "\n",
       "       type_zaloga_code  obrozovania_code  sel_cridit_code  summa_code  \n",
       "10916               0.0               0.0              0.0         1.0  \n",
       "6644                0.0               1.0              0.0         1.0  \n",
       "3972                1.0               2.0              0.0         1.0  \n",
       "4795                0.0               0.0              0.0         1.0  \n",
       "1710                0.0               0.0              0.0         0.0  "
      ]
     },
     "execution_count": 319,
     "metadata": {},
     "output_type": "execute_result"
    }
   ],
   "source": [
    "X_test.head()"
   ]
  },
  {
   "cell_type": "code",
   "execution_count": 322,
   "id": "3ae3c5b0",
   "metadata": {},
   "outputs": [
    {
     "name": "stdout",
     "output_type": "stream",
     "text": [
      "[0.55066493]\n"
     ]
    },
    {
     "name": "stderr",
     "output_type": "stream",
     "text": [
      "C:\\ProgramData\\anaconda3\\Lib\\site-packages\\sklearn\\base.py:439: UserWarning: X does not have valid feature names, but GradientBoostingRegressor was fitted with feature names\n",
      "  warnings.warn(\n"
     ]
    }
   ],
   "source": [
    "print(gbr.predict([[6000, 12, 40, 1, 0, 1, 2, 3, 0]]))"
   ]
  },
  {
   "cell_type": "code",
   "execution_count": 323,
   "id": "60c6d5e7",
   "metadata": {},
   "outputs": [],
   "source": [
    "import pickle"
   ]
  },
  {
   "cell_type": "code",
   "execution_count": 324,
   "id": "c42118ca",
   "metadata": {},
   "outputs": [],
   "source": [
    "pickle_out=open(\"Scoring_v.1.0.pkl\", \"wb\")"
   ]
  },
  {
   "cell_type": "code",
   "execution_count": 325,
   "id": "50a4db40",
   "metadata": {},
   "outputs": [],
   "source": [
    "pickle.dump(gbr, pickle_out)"
   ]
  },
  {
   "cell_type": "code",
   "execution_count": 326,
   "id": "1c5be96c",
   "metadata": {},
   "outputs": [],
   "source": [
    "pickle_out.close()"
   ]
  },
  {
   "cell_type": "code",
   "execution_count": null,
   "id": "7a1ce067",
   "metadata": {},
   "outputs": [],
   "source": []
  }
 ],
 "metadata": {
  "kernelspec": {
   "display_name": "Python 3 (ipykernel)",
   "language": "python",
   "name": "python3"
  },
  "language_info": {
   "codemirror_mode": {
    "name": "ipython",
    "version": 3
   },
   "file_extension": ".py",
   "mimetype": "text/x-python",
   "name": "python",
   "nbconvert_exporter": "python",
   "pygments_lexer": "ipython3",
   "version": "3.11.3"
  }
 },
 "nbformat": 4,
 "nbformat_minor": 5
}
